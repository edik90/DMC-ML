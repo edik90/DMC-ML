{
 "cells": [
  {
   "cell_type": "markdown",
   "metadata": {},
   "source": [
    "# Over-sampling and Under-sampling\n",
    "*Víctor Acevedo Vitvitskaya*"
   ]
  },
  {
   "cell_type": "code",
   "execution_count": null,
   "metadata": {},
   "outputs": [],
   "source": [
    "import numpy as np\n",
    "import pandas as pd\n",
    "import os\n",
    "from sklearn.linear_model import LogisticRegression\n",
    "from sklearn.model_selection import train_test_split\n",
    "from sklearn.metrics import accuracy_score, confusion_matrix, recall_score\n",
    "from imblearn.over_sampling import SMOTE\n",
    "from imblearn.under_sampling import TomekLinks"
   ]
  },
  {
   "cell_type": "markdown",
   "metadata": {},
   "source": [
    "First, we are going to ilustrate the Tomek link"
   ]
  },
  {
   "cell_type": "code",
   "execution_count": null,
   "metadata": {},
   "outputs": [],
   "source": [
    "from sklearn import datasets\n",
    "import numpy as np\n",
    "from collections import Counter\n",
    "X, y = datasets.make_classification(\n",
    "            n_samples     = 2000,  # number of data points\n",
    "            n_classes     = 2,      # number of classes\n",
    "            n_clusters_per_class=2, # The number of clusters per class \n",
    "            weights       = [0.03,0.97], # The proportions assigned to each class\n",
    "            n_features    = 10,     # number of total features \n",
    "            n_informative = 2,      # number of informative features \n",
    "            n_redundant   = 2,      # number of redundant features\n",
    "            random_state  = 0                       )\n",
    "print('Original dataset shape {}'.format(Counter(y)))"
   ]
  },
  {
   "cell_type": "code",
   "execution_count": null,
   "metadata": {},
   "outputs": [],
   "source": [
    "from sklearn.decomposition import PCA\n",
    "import pylab as pl\n",
    "%pylab inline\n",
    "def plot_this(X_rs,y_rs,method):\n",
    "  # Use principal component to condense the 10 features to 2 features\n",
    "  pca = PCA(n_components=2).fit(X_rs)\n",
    "  pca_2d = pca.transform(X_rs)\n",
    "  # Assign colors\n",
    "  for i in range(0, pca_2d.shape[0]):\n",
    "    if y_rs[i] == 0:\n",
    "      c1 = pl.scatter(pca_2d[i,0],pca_2d[i,1],c='r', marker='o')\n",
    "    elif y_rs[i] == 1:\n",
    "      c2 = pl.scatter(pca_2d[i,0],pca_2d[i,1],c='g', marker='*')  \n",
    "  pl.legend([c1, c2], ['Class 1', 'Class 2'])\n",
    "  pl.title(method)\n",
    "  pl.axis([-4, 5, -4, 4])  # x axis (-4,5), y axis (-4,4)\n",
    "  pl.show()\n",
    "    \n",
    "plot_this(X,y,'Original')"
   ]
  },
  {
   "cell_type": "code",
   "execution_count": null,
   "metadata": {},
   "outputs": [],
   "source": [
    "# TomekLinks\n",
    "sampler = TomekLinks(ratio='majority',random_state=0)\n",
    "X_rs, y_rs = sampler.fit_sample(X, y)\n",
    "print('TomekLinks undersampling {}'.format(Counter(y_rs)))\n",
    "plot_this(X_rs,y_rs,'TomekLinks')"
   ]
  },
  {
   "cell_type": "code",
   "execution_count": null,
   "metadata": {},
   "outputs": [],
   "source": []
  },
  {
   "cell_type": "markdown",
   "metadata": {},
   "source": [
    "Let's see an aplication of SMOTe"
   ]
  },
  {
   "cell_type": "code",
   "execution_count": null,
   "metadata": {},
   "outputs": [],
   "source": [
    "PATH_FILE = os.path.join(\"datasets\", \"BankDataUCI\", \"bank-full.csv\")"
   ]
  },
  {
   "cell_type": "code",
   "execution_count": null,
   "metadata": {},
   "outputs": [],
   "source": [
    "bank = pd.read_csv(PATH_FILE)\n",
    "bank.head()"
   ]
  },
  {
   "cell_type": "code",
   "execution_count": null,
   "metadata": {},
   "outputs": [],
   "source": [
    "bank.shape"
   ]
  },
  {
   "cell_type": "code",
   "execution_count": null,
   "metadata": {},
   "outputs": [],
   "source": [
    "bank.columns"
   ]
  },
  {
   "cell_type": "code",
   "execution_count": null,
   "metadata": {},
   "outputs": [],
   "source": [
    "bank[\"default\"] = bank[\"default\"].map({\"no\":0,\"yes\":1})\n",
    "bank[\"housing\"] = bank[\"housing\"].map({\"no\":0,\"yes\":1})\n",
    "bank[\"loan\"] = bank[\"loan\"].map({\"no\":0,\"yes\":1})\n",
    "bank[\"y\"] = bank[\"y\"].map({\"no\":0,\"yes\":1})\n",
    "bank.education = bank.education.map({\"primary\": 0, \"secondary\":1, \"tertiary\":2})\n",
    "bank.month = pd.to_datetime(bank.month, format = \"%b\").dt.month"
   ]
  },
  {
   "cell_type": "code",
   "execution_count": null,
   "metadata": {},
   "outputs": [],
   "source": [
    "bank.isnull().sum()"
   ]
  },
  {
   "cell_type": "code",
   "execution_count": null,
   "metadata": {},
   "outputs": [],
   "source": [
    "bank.dropna(inplace = True)\n",
    "bank = pd.get_dummies(bank, drop_first = True)\n",
    "bank.y.value_counts()"
   ]
  },
  {
   "cell_type": "code",
   "execution_count": null,
   "metadata": {},
   "outputs": [],
   "source": [
    "X = bank.drop(\"y\", axis = 1)\n",
    "y = bank.y\n",
    "\n",
    "X_train, X_test, y_train, y_test = train_test_split(X, y, random_state = 1, stratify=y)\n",
    "y_train.value_counts()"
   ]
  },
  {
   "cell_type": "code",
   "execution_count": null,
   "metadata": {},
   "outputs": [],
   "source": [
    "lr = LogisticRegression()\n",
    "lr.fit(X_train, y_train)\n",
    "y_pred = lr.predict(X_test)\n",
    "\n",
    "print(confusion_matrix(y_test, y_pred))\n",
    "print(accuracy_score(y_test, y_pred))\n",
    "print(recall_score(y_test, y_pred))"
   ]
  },
  {
   "cell_type": "code",
   "execution_count": null,
   "metadata": {},
   "outputs": [],
   "source": [
    "#SMOTE-----------------------------------------------------------------------------------\n",
    "X_train, X_test, y_train, y_test = train_test_split(X, y, random_state = 1, stratify=y)\n",
    "smt = SMOTE()\n",
    "X_train, y_train = smt.fit_sample(X_train, y_train)\n"
   ]
  },
  {
   "cell_type": "code",
   "execution_count": null,
   "metadata": {},
   "outputs": [],
   "source": [
    "lr = LogisticRegression()\n",
    "lr.fit(X_train, y_train)\n",
    "y_pred = lr.predict(X_test)\n",
    "\n",
    "print(confusion_matrix(y_test, y_pred))\n",
    "print(accuracy_score(y_test, y_pred))\n",
    "print(recall_score(y_test, y_pred))"
   ]
  }
 ],
 "metadata": {
  "kernelspec": {
   "display_name": "Python 3",
   "language": "python",
   "name": "python3"
  },
  "language_info": {
   "codemirror_mode": {
    "name": "ipython",
    "version": 3
   },
   "file_extension": ".py",
   "mimetype": "text/x-python",
   "name": "python",
   "nbconvert_exporter": "python",
   "pygments_lexer": "ipython3",
   "version": "3.6.8"
  }
 },
 "nbformat": 4,
 "nbformat_minor": 2
}
